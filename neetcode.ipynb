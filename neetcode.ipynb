{
 "cells": [
  {
   "cell_type": "code",
   "execution_count": null,
   "metadata": {},
   "outputs": [],
   "source": [
    "#learn timsort and memorize complexity\n",
    "# basic class structure eg. #155"
   ]
  },
  {
   "cell_type": "code",
   "execution_count": 7,
   "metadata": {},
   "outputs": [
    {
     "ename": "NameError",
     "evalue": "name 'List' is not defined",
     "output_type": "error",
     "traceback": [
      "\u001b[0;31m---------------------------------------------------------------------------\u001b[0m",
      "\u001b[0;31mNameError\u001b[0m                                 Traceback (most recent call last)",
      "\u001b[1;32m/Users/minwang/Documents/inter prep/neetcode.ipynb Cell 2\u001b[0m line \u001b[0;36m6\n\u001b[1;32m      <a href='vscode-notebook-cell:/Users/minwang/Documents/inter%20prep/neetcode.ipynb#W0sZmlsZQ%3D%3D?line=0'>1</a>\u001b[0m \u001b[39m# https://neetcode.io/roadmap\u001b[39;00m\n\u001b[1;32m      <a href='vscode-notebook-cell:/Users/minwang/Documents/inter%20prep/neetcode.ipynb#W0sZmlsZQ%3D%3D?line=1'>2</a>\u001b[0m \u001b[39m# arrays & hashing\u001b[39;00m\n\u001b[1;32m      <a href='vscode-notebook-cell:/Users/minwang/Documents/inter%20prep/neetcode.ipynb#W0sZmlsZQ%3D%3D?line=2'>3</a>\u001b[0m \n\u001b[1;32m      <a href='vscode-notebook-cell:/Users/minwang/Documents/inter%20prep/neetcode.ipynb#W0sZmlsZQ%3D%3D?line=3'>4</a>\u001b[0m \u001b[39m#347.\u001b[39;00m\n\u001b[1;32m      <a href='vscode-notebook-cell:/Users/minwang/Documents/inter%20prep/neetcode.ipynb#W0sZmlsZQ%3D%3D?line=4'>5</a>\u001b[0m \u001b[39mimport\u001b[39;00m \u001b[39mcollections\u001b[39;00m\n\u001b[0;32m----> <a href='vscode-notebook-cell:/Users/minwang/Documents/inter%20prep/neetcode.ipynb#W0sZmlsZQ%3D%3D?line=5'>6</a>\u001b[0m \u001b[39mclass\u001b[39;49;00m \u001b[39mSolution\u001b[39;49;00m:\n\u001b[1;32m      <a href='vscode-notebook-cell:/Users/minwang/Documents/inter%20prep/neetcode.ipynb#W0sZmlsZQ%3D%3D?line=6'>7</a>\u001b[0m     \u001b[39mdef\u001b[39;49;00m \u001b[39mtopKFrequent\u001b[39;49m(\u001b[39mself\u001b[39;49m, nums: List[\u001b[39mint\u001b[39;49m], k: \u001b[39mint\u001b[39;49m) \u001b[39m-\u001b[39;49m\u001b[39m>\u001b[39;49m List[\u001b[39mint\u001b[39;49m]:\n\u001b[1;32m      <a href='vscode-notebook-cell:/Users/minwang/Documents/inter%20prep/neetcode.ipynb#W0sZmlsZQ%3D%3D?line=7'>8</a>\u001b[0m         c \u001b[39m=\u001b[39;49m collections\u001b[39m.\u001b[39;49mCounter(nums)\n",
      "\u001b[1;32m/Users/minwang/Documents/inter prep/neetcode.ipynb Cell 2\u001b[0m line \u001b[0;36m7\n\u001b[1;32m      <a href='vscode-notebook-cell:/Users/minwang/Documents/inter%20prep/neetcode.ipynb#W0sZmlsZQ%3D%3D?line=5'>6</a>\u001b[0m \u001b[39mclass\u001b[39;00m \u001b[39mSolution\u001b[39;00m:\n\u001b[0;32m----> <a href='vscode-notebook-cell:/Users/minwang/Documents/inter%20prep/neetcode.ipynb#W0sZmlsZQ%3D%3D?line=6'>7</a>\u001b[0m     \u001b[39mdef\u001b[39;00m \u001b[39mtopKFrequent\u001b[39m(\u001b[39mself\u001b[39m, nums: List[\u001b[39mint\u001b[39m], k: \u001b[39mint\u001b[39m) \u001b[39m-\u001b[39m\u001b[39m>\u001b[39m List[\u001b[39mint\u001b[39m]:\n\u001b[1;32m      <a href='vscode-notebook-cell:/Users/minwang/Documents/inter%20prep/neetcode.ipynb#W0sZmlsZQ%3D%3D?line=7'>8</a>\u001b[0m         c \u001b[39m=\u001b[39m collections\u001b[39m.\u001b[39mCounter(nums)\n\u001b[1;32m      <a href='vscode-notebook-cell:/Users/minwang/Documents/inter%20prep/neetcode.ipynb#W0sZmlsZQ%3D%3D?line=8'>9</a>\u001b[0m         \u001b[39mreturn\u001b[39;00m [x[\u001b[39m0\u001b[39m] \u001b[39mfor\u001b[39;00m x \u001b[39min\u001b[39;00m c\u001b[39m.\u001b[39mmost_common(k)]\n",
      "\u001b[0;31mNameError\u001b[0m: name 'List' is not defined"
     ]
    }
   ],
   "source": [
    "# https://neetcode.io/roadmap\n",
    "# arrays & hashing\n",
    "\n",
    "#347.\n",
    "import collections\n",
    "class Solution:\n",
    "    def topKFrequent(self, nums: List[int], k: int) -> List[int]:\n",
    "        c = collections.Counter(nums)\n",
    "        return [x[0] for x in c.most_common(k)]\n",
    "#https://www.youtube.com/watch?v=B1k_sxOSgv8\n",
    "# Encode and decode string\n",
    "# use (N of char)#(string)\n",
    "\n",
    "#Stack\n",
    "#22. Generate parenthesis\n",
    "#recursion\n",
    "#739. dailiy temperatures\n",
    "#stack, add to stack if smaller. pop all that is smaller in stack while calculating indeces\n",
    "#853. car fleet\n",
    "# maths, stack: sort then start from closest to finish. add to stack only if not collide. remaining elements is answer\n",
    "#84. largest rectangle histogram\n",
    "# https://neetcode.io/roadmap\n",
    "# append to stack if ascending. if smaller, pop until possible while calculating area\n",
    "\n",
    "#Two pointers\n",
    "#15. 3sum\n",
    "#sort array then iterate each array and figure out the other two using 2sum solution(two pointer in sorted array)\n",
    "#11. Container with most water\n",
    "# two pointer, shift the shorter pointer\n",
    "\n",
    "#Sliding window\n",
    "#121. best time to buy and sell\n"
   ]
  }
 ],
 "metadata": {
  "kernelspec": {
   "display_name": "Python 3",
   "language": "python",
   "name": "python3"
  },
  "language_info": {
   "codemirror_mode": {
    "name": "ipython",
    "version": 3
   },
   "file_extension": ".py",
   "mimetype": "text/x-python",
   "name": "python",
   "nbconvert_exporter": "python",
   "pygments_lexer": "ipython3",
   "version": "3.11.4"
  }
 },
 "nbformat": 4,
 "nbformat_minor": 2
}
